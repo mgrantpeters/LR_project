{
 "cells": [
  {
   "cell_type": "code",
   "execution_count": 1,
   "metadata": {},
   "outputs": [
    {
     "ename": "NameError",
     "evalue": "name 'alldis' is not defined",
     "output_type": "error",
     "traceback": [
      "\u001b[1;31m---------------------------------------------------------------------------\u001b[0m",
      "\u001b[1;31mNameError\u001b[0m                                 Traceback (most recent call last)",
      "\u001b[1;32m~\\AppData\\Local\\Temp\\ipykernel_10296\\616577678.py\u001b[0m in \u001b[0;36m<module>\u001b[1;34m\u001b[0m\n\u001b[0;32m     31\u001b[0m             \u001b[0mprint\u001b[0m\u001b[1;33m(\u001b[0m\u001b[0mdisease\u001b[0m\u001b[1;33m,\u001b[0m \u001b[1;34m\" doesn't have enough genes with high genetic scores.\"\u001b[0m\u001b[1;33m)\u001b[0m\u001b[1;33m\u001b[0m\u001b[1;33m\u001b[0m\u001b[0m\n\u001b[0;32m     32\u001b[0m \u001b[1;33m\u001b[0m\u001b[0m\n\u001b[1;32m---> 33\u001b[1;33m     \u001b[0malldis\u001b[0m\u001b[1;33m.\u001b[0m\u001b[0mto_csv\u001b[0m\u001b[1;33m(\u001b[0m\u001b[1;34m'processed_data/hot-encoded-control-diseases_%f.csv'\u001b[0m \u001b[1;33m%\u001b[0m \u001b[0mm\u001b[0m\u001b[1;33m)\u001b[0m\u001b[1;33m\u001b[0m\u001b[1;33m\u001b[0m\u001b[0m\n\u001b[0m",
      "\u001b[1;31mNameError\u001b[0m: name 'alldis' is not defined"
     ]
    }
   ],
   "source": [
    "import numpy as np\n",
    "import pandas as pd\n",
    "import os, glob\n",
    "from sklearn.preprocessing import OneHotEncoder\n",
    "\n",
    "path = glob.glob(\"raw_data/control_opentargets/*.tsv\")\n",
    "thr = [0.1, 0.15, 0.2, 0.25, 0.3, 0.35, 0.4, 0.45, 0.5, 0.55, 0.6, 0.65, 0.7, 0.75, 0.8, 0.85, 0.9, 0.95, 1.0]\n",
    "for m in thr:\n",
    "    for n in range (0,len(path)):\n",
    "        dis = pd.read_csv(path[n], delimiter = '\\t')\n",
    "        dis = dis[['symbol', 'geneticAssociations']]  # Take gene symbol and column containing genetic association score\n",
    "        dis = dis[dis['geneticAssociations']>m]  # Filter based on chosen risk threshold \n",
    "        disease = glob.glob(\"raw_data/control_opentargets/*.tsv\")[n].split(\"\\\\\")[1].split(\"_\")[0]  # get disease name\n",
    "        print(disease)\n",
    "        if np.shape(dis)[0]>10:\n",
    "                dis['score']=int(1)\n",
    "                dis = dis.drop(columns=['geneticAssociations']).set_index(['symbol'])\n",
    "\n",
    "                #creating instance of one-hot-encoder\n",
    "                encoder = OneHotEncoder(handle_unknown='ignore')\n",
    "                encoder_df = pd.DataFrame(encoder.fit_transform(dis).toarray())\n",
    "                encoder_df[disease] = encoder_df[0]\n",
    "                encoder_df = encoder_df.drop(columns=[0])\n",
    "                encoder_df['genes'] = list(dis.index)\n",
    "                encoder_df.set_index('genes', inplace=True)\n",
    "                if n==0:\n",
    "                    alldis = encoder_df\n",
    "                else:\n",
    "                    alldis = pd.merge(alldis, encoder_df, how='outer', left_index=True, right_index=True).fillna(0)\n",
    "        else:\n",
    "            print(disease, \" doesn't have enough genes with high genetic scores.\")\n",
    "\n",
    "    alldis.to_csv('processed_data/hot-encoded-control-diseases_%f.csv' % m)"
   ]
  },
  {
   "cell_type": "code",
   "execution_count": 2,
   "metadata": {},
   "outputs": [
    {
     "data": {
      "text/plain": [
       "[]"
      ]
     },
     "execution_count": 2,
     "metadata": {},
     "output_type": "execute_result"
    }
   ],
   "source": [
    "path"
   ]
  },
  {
   "cell_type": "code",
   "execution_count": null,
   "metadata": {},
   "outputs": [],
   "source": []
  }
 ],
 "metadata": {
  "kernelspec": {
   "display_name": "Python 3",
   "language": "python",
   "name": "python3"
  },
  "language_info": {
   "codemirror_mode": {
    "name": "ipython",
    "version": 3
   },
   "file_extension": ".py",
   "mimetype": "text/x-python",
   "name": "python",
   "nbconvert_exporter": "python",
   "pygments_lexer": "ipython3",
   "version": "3.7.3"
  }
 },
 "nbformat": 4,
 "nbformat_minor": 2
}
