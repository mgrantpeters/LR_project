{
 "cells": [
  {
   "cell_type": "code",
   "execution_count": 31,
   "metadata": {},
   "outputs": [],
   "source": [
    "import numpy as np\n",
    "import pandas as pd\n",
    "import mygene\n",
    "import omnipath as op\n",
    "import matplotlib.pyplot as plt\n",
    "import seaborn as sns\n",
    "import mellon as ml\n",
    "import random\n",
    "import networkx as nx"
   ]
  },
  {
   "cell_type": "code",
   "execution_count": 32,
   "metadata": {},
   "outputs": [],
   "source": [
    "# import gtex expression data\n",
    "\n",
    "gtex_link = 'raw_data/GTEx_tissue_data/GTEx_Analysis_2017-06-05_v8_RNASeQCv1.1.9_gene_median_tpm.gct.gz'\n",
    "exp = pd.read_csv(gtex_link, sep='\\t', index_col='Description', skiprows=2)\n",
    "exp_cns = exp\n",
    "\n",
    "# import omnipath db\n",
    "db = op.interactions.import_intercell_network(transmitter_params = {\"categories\":\"ligand\"}, receiver_params = {\"categories\": \"receptor\"})\n",
    "db = db[np.logical_not(db['genesymbol_intercell_source'].str.startswith('HLA'))]\n",
    "db = db[np.logical_not(db['genesymbol_intercell_target'].str.startswith('HLA'))]\n",
    "db = db[~db['genesymbol_intercell_target'].astype(str).str.startswith('COMPLEX')]\n",
    "db = db[~db['genesymbol_intercell_source'].astype(str).str.startswith('COMPLEX')]"
   ]
  },
  {
   "cell_type": "code",
   "execution_count": 33,
   "metadata": {},
   "outputs": [
    {
     "data": {
      "text/plain": [
       "Index(['DDX11L1', 'WASH7P', 'MIR6859-1', 'MIR1302-2HG', 'FAM138A', 'OR4G4P',\n",
       "       'OR4G11P', 'OR4F5', 'RP11-34P13.7', 'CICP27',\n",
       "       ...\n",
       "       'MT-ND4', 'MT-TH', 'MT-TS2', 'MT-TL2', 'MT-ND5', 'MT-ND6', 'MT-TE',\n",
       "       'MT-CYB', 'MT-TT', 'MT-TP'],\n",
       "      dtype='object', name='Description', length=56200)"
      ]
     },
     "execution_count": 33,
     "metadata": {},
     "output_type": "execute_result"
    }
   ],
   "source": [
    "braingenes = exp_cns.index.dropna()\n",
    "braingenes\n",
    "#all_source, pctsrc, all_targets, pcttgt, summary_LR = ml.lr.find_hits(pd.DataFrame(braingenes, index = list(braingenes)),db)\n",
    "#brainLR = pd.concat([all_source['gene'],all_targets['gene']], axis = 0).unique()"
   ]
  },
  {
   "cell_type": "code",
   "execution_count": 48,
   "metadata": {},
   "outputs": [
    {
     "data": {
      "image/png": "[encoded data removed]",
      "text/plain": [
       "<Figure size 432x288 with 1 Axes>"
      ]
     },
     "metadata": {
      "needs_background": "light"
     },
     "output_type": "display_data"
    },
    {
     "data": {
      "image/png": "[encoded data removed]",
      "text/plain": [
       "<Figure size 432x288 with 1 Axes>"
      ]
     },
     "metadata": {
      "needs_background": "light"
     },
     "output_type": "display_data"
    },
    {
     "name": "stdout",
     "output_type": "stream",
     "text": [
      "No LRs in list\n",
      "No LRs in list\n",
      "No LRs in list\n",
      "No LRs in list\n",
      "No LRs in list\n",
      "No LRs in list\n",
      "No LRs in list\n",
      "No LRs in list\n",
      "No LRs in list\n",
      "No LRs in list\n"
     ]
    },
    {
     "data": {
      "image/png": "[encoded data removed]",
      "text/plain": [
       "<Figure size 432x288 with 1 Axes>"
      ]
     },
     "metadata": {
      "needs_background": "light"
     },
     "output_type": "display_data"
    }
   ],
   "source": [
    "\n",
    "reslist = [0.40, 0.55, 0.70]\n",
    "iter = 10000\n",
    "genes = pd.read_csv('processed_data/hot-encoded-diseases_0.400000.csv')['genes']\n",
    "universe = list(set(braingenes).difference(set(list(genes)).intersection(set(braingenes))))\n",
    "\n",
    "for res in range(0,len(reslist)):\n",
    "    if (reslist[res]!=0.55):\n",
    "        genes = pd.read_csv('processed_data/hot-encoded-diseases_%s00000.csv' % reslist[res])\n",
    "    if (reslist[res]==0.55):\n",
    "        genes = pd.read_csv('processed_data/hot-encoded-diseases_%s0000.csv' % reslist[res])\n",
    "    boot = []\n",
    "    for i in range (0,iter):\n",
    "            rand = random.sample(range(0,len(universe)), np.shape(genes)[0])\n",
    "            brainSubset = pd.DataFrame(universe).iloc[rand]\n",
    "            LRs = db[['genesymbol_intercell_source','genesymbol_intercell_target']][(db['genesymbol_intercell_source'].isin(list(brainSubset[0]))) | (db['genesymbol_intercell_target'].isin(list(brainSubset[0])))]\n",
    "            LRs = LRs.dropna()\n",
    "            unique_genes = list(pd.concat([LRs['genesymbol_intercell_source'],LRs['genesymbol_intercell_target']], axis = 0).unique())\n",
    "            adj_LRs = pd.DataFrame(np.zeros(shape=(len(unique_genes), len(unique_genes))), index = unique_genes, columns = unique_genes)\n",
    "            for n in range (0, np.shape(LRs)[0]):\n",
    "                adj_LRs.iloc[adj_LRs.index.get_loc(LRs.iloc[n]['genesymbol_intercell_source']), adj_LRs.columns.get_loc(LRs.iloc[n]['genesymbol_intercell_target'])] += 1\n",
    "            # Create network and detect communities\n",
    "            if (len(adj_LRs)<1):\n",
    "                print('No LRs in list')\n",
    "            else:\n",
    "                H = nx.from_pandas_adjacency(adj_LRs)\n",
    "                comms = ml.network.louvain_communities(H, seed = 123, resolution = 0.01)\n",
    "\n",
    "                # Check which is the largest network and save % of total LRs in network\n",
    "                for l in range(0,len(comms)):\n",
    "                    this = len(comms[l])\n",
    "                    \n",
    "                    if (l == 0):\n",
    "                        longest = this\n",
    "                        cluster = comms[l]\n",
    "                    elif (this > longest):\n",
    "                        longest = this\n",
    "                        cluster = comms[l]\n",
    "                    \n",
    "                boot.append(longest/len(H))\n",
    "                del adj_LRs\n",
    "                del LRs\n",
    "\n",
    "    sns.histplot(data = boot, bins = 20)\n",
    "    plt.savefig('plots/03-LR_network_visualisation/03d_network_stats_per_threshold/hist_distribution_%s.png' % reslist[res], dpi=150)\n",
    "    plt.show()\n",
    "\n",
    "    if (res==0):\n",
    "        results = pd.DataFrame(boot, columns = [reslist[res]])\n",
    "    else: \n",
    "       results = pd.concat([results, pd.DataFrame(boot, columns = [reslist[res]])], axis = 1)\n",
    "\n",
    "results.to_csv('processed_data/03-LR_network_visualisation/03d_network_stats_per_threshold/bootstrapped_results_10000iter_%majornetwork.csv')\n",
    "            \n",
    "#"
   ]
  },
  {
   "cell_type": "code",
   "execution_count": 49,
   "metadata": {},
   "outputs": [],
   "source": [
    "occurance = pd.read_csv('processed_data/03-LR_network_visualisation/03l_visualise_networks/%_genes_in_major_network.csv')\n",
    "\n"
   ]
  },
  {
   "cell_type": "code",
   "execution_count": 50,
   "metadata": {},
   "outputs": [
    {
     "data": {
      "text/plain": [
       "0.001"
      ]
     },
     "execution_count": 50,
     "metadata": {},
     "output_type": "execute_result"
    }
   ],
   "source": [
    "(results[0.40]>occurance['0.400000'][0]).sum()/iter"
   ]
  },
  {
   "cell_type": "code",
   "execution_count": 51,
   "metadata": {},
   "outputs": [
    {
     "data": {
      "text/plain": [
       "0.0067"
      ]
     },
     "execution_count": 51,
     "metadata": {},
     "output_type": "execute_result"
    }
   ],
   "source": [
    "(results[0.55]>occurance['0.550000'][0]).sum()/iter"
   ]
  },
  {
   "cell_type": "code",
   "execution_count": null,
   "metadata": {},
   "outputs": [
    {
     "data": {
      "text/plain": [
       "0.2276"
      ]
     },
     "execution_count": 24,
     "metadata": {},
     "output_type": "execute_result"
    }
   ],
   "source": [
    "(results[0.7]>occurance['0.700000'][0]).sum()/iter"
   ]
  }
 ],
 "metadata": {
  "kernelspec": {
   "display_name": "Python 3 (ipykernel)",
   "language": "python",
   "name": "python3"
  },
  "language_info": {
   "codemirror_mode": {
    "name": "ipython",
    "version": 3
   },
   "file_extension": ".py",
   "mimetype": "text/x-python",
   "name": "python",
   "nbconvert_exporter": "python",
   "pygments_lexer": "ipython3",
   "version": "3.7.3"
  }
 },
 "nbformat": 4,
 "nbformat_minor": 4
}
