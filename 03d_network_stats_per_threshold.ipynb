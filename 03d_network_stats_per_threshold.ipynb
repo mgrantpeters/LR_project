{
 "cells": [
  {
   "cell_type": "code",
   "execution_count": 3,
   "metadata": {},
   "outputs": [],
   "source": [
    "import numpy as np\n",
    "import pandas as pd\n",
    "import mygene\n",
    "import omnipath as op\n",
    "import matplotlib.pyplot as plt\n",
    "import seaborn as sns\n",
    "import mellon as ml\n",
    "import random\n",
    "import networkx as nx\n",
    "from pyensembl import EnsemblRelease"
   ]
  },
  {
   "cell_type": "code",
   "execution_count": 4,
   "metadata": {},
   "outputs": [],
   "source": [
    "# import gtex expression data\n",
    "\n",
    "gtex_link = 'raw_data/GTEx_tissue_data/GTEx_Analysis_2017-06-05_v8_RNASeQCv1.1.9_gene_median_tpm.gct.gz'\n",
    "exp = pd.read_csv(gtex_link, sep='\\t', index_col='Description', skiprows=2)\n",
    "exp_cns = exp\n",
    "\n",
    "# import omnipath db\n",
    "db = op.interactions.import_intercell_network(transmitter_params = {\"categories\":\"ligand\"}, receiver_params = {\"categories\": \"receptor\"})\n",
    "db = db[np.logical_not(db['genesymbol_intercell_source'].str.startswith('HLA'))]\n",
    "db = db[np.logical_not(db['genesymbol_intercell_target'].str.startswith('HLA'))]\n",
    "db = db[~db['genesymbol_intercell_target'].astype(str).str.startswith('COMPLEX')]\n",
    "db = db[~db['genesymbol_intercell_source'].astype(str).str.startswith('COMPLEX')]"
   ]
  },
  {
   "cell_type": "code",
   "execution_count": 5,
   "metadata": {},
   "outputs": [],
   "source": [
    "mg = mygene.MyGeneInfo()\n",
    "ensembl_gtex = list(np.unique(pd.DataFrame(list(exp_cns.index.str.split('.')))[0]))\n",
    "\n",
    "# specify the release number\n",
    "ensembl = EnsemblRelease(109)\n",
    "genes = ensembl.genes()\n",
    "\n",
    "# create a DataFrame of gene information\n",
    "ensembl_ann = pd.DataFrame({\n",
    "    'gene_id': [gene.gene_id for gene in genes],\n",
    "    'gene_name': [gene.gene_name for gene in genes],\n",
    "    'chromosome': [gene.contig for gene in genes],\n",
    "    'type': [gene.biotype for gene in genes]\n",
    "})\n",
    "gtex_annotated = ensembl_ann[ensembl_ann['gene_name'].isin(ensembl_gtex)]\n",
    "protein = gtex_annotated[gtex_annotated['type']=='protein_coding']['gene_name']"
   ]
  },
  {
   "cell_type": "code",
   "execution_count": 6,
   "metadata": {},
   "outputs": [
    {
     "data": {
      "image/png": "[encoded data removed]",
      "text/plain": [
       "<Figure size 432x288 with 1 Axes>"
      ]
     },
     "metadata": {
      "needs_background": "light"
     },
     "output_type": "display_data"
    },
    {
     "data": {
      "image/png": "[encoded data removed]",
      "text/plain": [
       "<Figure size 432x288 with 1 Axes>"
      ]
     },
     "metadata": {
      "needs_background": "light"
     },
     "output_type": "display_data"
    },
    {
     "data": {
      "image/png": "[encoded data removed]",
      "text/plain": [
       "<Figure size 432x288 with 1 Axes>"
      ]
     },
     "metadata": {
      "needs_background": "light"
     },
     "output_type": "display_data"
    }
   ],
   "source": [
    "\n",
    "reslist = [0.40, 0.55, 0.70]\n",
    "iter = 10000\n",
    "genes = pd.read_csv('processed_data/00-hot_one_encode_disease_genes/hot-encoded-diseases_0.400000.csv')['genes']\n",
    "universe = list(set(protein).difference(set(list(genes)).intersection(set(protein))))\n",
    "\n",
    "for res in range(0,len(reslist)):\n",
    "    if (reslist[res]!=0.55):\n",
    "        genes = pd.read_csv('processed_data/00-hot_one_encode_disease_genes/hot-encoded-diseases_%s00000.csv' % reslist[res])\n",
    "    if (reslist[res]==0.55):\n",
    "        genes = pd.read_csv('processed_data/00-hot_one_encode_disease_genes/hot-encoded-diseases_%s0000.csv' % reslist[res])\n",
    "    boot = []\n",
    "    for i in range (0,iter):\n",
    "            rand = random.sample(range(0,len(universe)), np.shape(genes)[0])\n",
    "            brainSubset = pd.DataFrame(universe).iloc[rand]\n",
    "            LRs = db[['genesymbol_intercell_source','genesymbol_intercell_target']][(db['genesymbol_intercell_source'].isin(list(brainSubset[0]))) | (db['genesymbol_intercell_target'].isin(list(brainSubset[0])))]\n",
    "            LRs = LRs.dropna()\n",
    "            unique_genes = list(pd.concat([LRs['genesymbol_intercell_source'],LRs['genesymbol_intercell_target']], axis = 0).unique())\n",
    "            adj_LRs = pd.DataFrame(np.zeros(shape=(len(unique_genes), len(unique_genes))), index = unique_genes, columns = unique_genes)\n",
    "            for n in range (0, np.shape(LRs)[0]):\n",
    "                adj_LRs.iloc[adj_LRs.index.get_loc(LRs.iloc[n]['genesymbol_intercell_source']), adj_LRs.columns.get_loc(LRs.iloc[n]['genesymbol_intercell_target'])] += 1\n",
    "            # Create network and detect communities\n",
    "            if (len(adj_LRs)<1):\n",
    "                print('No LRs in list')\n",
    "            else:\n",
    "                H = nx.from_pandas_adjacency(adj_LRs)\n",
    "                comms = ml.network.louvain_communities(H, seed = 123, resolution = 0.01)\n",
    "\n",
    "                # Check which is the largest network and save % of total LRs in network\n",
    "                for l in range(0,len(comms)):\n",
    "                    this = len(comms[l])\n",
    "                    \n",
    "                    if (l == 0):\n",
    "                        longest = this\n",
    "                        cluster = comms[l]\n",
    "                    elif (this > longest):\n",
    "                        longest = this\n",
    "                        cluster = comms[l]\n",
    "                    \n",
    "                boot.append(longest/len(H))\n",
    "                del adj_LRs\n",
    "                del LRs\n",
    "\n",
    "    sns.histplot(data = boot, bins = 20)\n",
    "    plt.savefig('plots/03-LR_network_visualisation/03d_network_stats_per_threshold/hist_distribution_%s.png' % reslist[res], dpi=150)\n",
    "    plt.show()\n",
    "\n",
    "    if (res==0):\n",
    "        results = pd.DataFrame(boot, columns = [reslist[res]])\n",
    "    else: \n",
    "       results = pd.concat([results, pd.DataFrame(boot, columns = [reslist[res]])], axis = 1)\n",
    "\n",
    "results.to_csv('processed_data/03-LR_network_visualisation/03d_network_stats_per_threshold/bootstrapped_results_10000iter_%majornetwork.csv')\n",
    "            \n",
    "#"
   ]
  },
  {
   "cell_type": "code",
   "execution_count": 7,
   "metadata": {},
   "outputs": [],
   "source": [
    "occurance = pd.read_csv('processed_data/03-LR_network_visualisation/03l_visualise_networks/%_genes_in_major_network.csv')\n",
    "\n"
   ]
  },
  {
   "cell_type": "code",
   "execution_count": 8,
   "metadata": {},
   "outputs": [
    {
     "data": {
      "text/plain": [
       "0.0"
      ]
     },
     "execution_count": 8,
     "metadata": {},
     "output_type": "execute_result"
    }
   ],
   "source": [
    "(results[0.40]>occurance['0.400000'][0]).sum()/iter"
   ]
  },
  {
   "cell_type": "code",
   "execution_count": 9,
   "metadata": {},
   "outputs": [
    {
     "data": {
      "text/plain": [
       "0.0032"
      ]
     },
     "execution_count": 9,
     "metadata": {},
     "output_type": "execute_result"
    }
   ],
   "source": [
    "(results[0.55]>occurance['0.550000'][0]).sum()/iter"
   ]
  },
  {
   "cell_type": "code",
   "execution_count": 10,
   "metadata": {},
   "outputs": [
    {
     "data": {
      "text/plain": [
       "0.4592"
      ]
     },
     "execution_count": 10,
     "metadata": {},
     "output_type": "execute_result"
    }
   ],
   "source": [
    "(results[0.7]>occurance['0.700000'][0]).sum()/iter"
   ]
  },
  {
   "cell_type": "code",
   "execution_count": 11,
   "metadata": {},
   "outputs": [
    {
     "data": {
      "text/html": [
       "<div>\n",
       "<style scoped>\n",
       "    .dataframe tbody tr th:only-of-type {\n",
       "        vertical-align: middle;\n",
       "    }\n",
       "\n",
       "    .dataframe tbody tr th {\n",
       "        vertical-align: top;\n",
       "    }\n",
       "\n",
       "    .dataframe thead th {\n",
       "        text-align: right;\n",
       "    }\n",
       "</style>\n",
       "<table border=\"1\" class=\"dataframe\">\n",
       "  <thead>\n",
       "    <tr style=\"text-align: right;\">\n",
       "      <th></th>\n",
       "      <th>Unnamed: 0</th>\n",
       "      <th>0.100000</th>\n",
       "      <th>0.150000</th>\n",
       "      <th>0.200000</th>\n",
       "      <th>0.250000</th>\n",
       "      <th>0.300000</th>\n",
       "      <th>0.350000</th>\n",
       "      <th>0.400000</th>\n",
       "      <th>0.450000</th>\n",
       "      <th>0.500000</th>\n",
       "      <th>0.550000</th>\n",
       "      <th>0.600000</th>\n",
       "      <th>0.650000</th>\n",
       "      <th>0.700000</th>\n",
       "    </tr>\n",
       "  </thead>\n",
       "  <tbody>\n",
       "    <tr>\n",
       "      <th>0</th>\n",
       "      <td>0</td>\n",
       "      <td>0.958796</td>\n",
       "      <td>0.964551</td>\n",
       "      <td>0.960447</td>\n",
       "      <td>0.958067</td>\n",
       "      <td>0.955296</td>\n",
       "      <td>0.961661</td>\n",
       "      <td>0.963252</td>\n",
       "      <td>0.971774</td>\n",
       "      <td>0.966049</td>\n",
       "      <td>0.948673</td>\n",
       "      <td>0.733871</td>\n",
       "      <td>0.69145</td>\n",
       "      <td>0.65641</td>\n",
       "    </tr>\n",
       "  </tbody>\n",
       "</table>\n",
       "</div>"
      ],
      "text/plain": [
       "   Unnamed: 0  0.100000  0.150000  0.200000  0.250000  0.300000  0.350000  \\\n",
       "0           0  0.958796  0.964551  0.960447  0.958067  0.955296  0.961661   \n",
       "\n",
       "   0.400000  0.450000  0.500000  0.550000  0.600000  0.650000  0.700000  \n",
       "0  0.963252  0.971774  0.966049  0.948673  0.733871   0.69145   0.65641  "
      ]
     },
     "execution_count": 11,
     "metadata": {},
     "output_type": "execute_result"
    }
   ],
   "source": [
    "occurance"
   ]
  },
  {
   "cell_type": "code",
   "execution_count": 12,
   "metadata": {},
   "outputs": [
    {
     "data": {
      "text/html": [
       "<div>\n",
       "<style scoped>\n",
       "    .dataframe tbody tr th:only-of-type {\n",
       "        vertical-align: middle;\n",
       "    }\n",
       "\n",
       "    .dataframe tbody tr th {\n",
       "        vertical-align: top;\n",
       "    }\n",
       "\n",
       "    .dataframe thead th {\n",
       "        text-align: right;\n",
       "    }\n",
       "</style>\n",
       "<table border=\"1\" class=\"dataframe\">\n",
       "  <thead>\n",
       "    <tr style=\"text-align: right;\">\n",
       "      <th></th>\n",
       "      <th>0.40</th>\n",
       "      <th>0.55</th>\n",
       "      <th>0.70</th>\n",
       "    </tr>\n",
       "  </thead>\n",
       "  <tbody>\n",
       "    <tr>\n",
       "      <th>0</th>\n",
       "      <td>0.903458</td>\n",
       "      <td>0.867882</td>\n",
       "      <td>0.520619</td>\n",
       "    </tr>\n",
       "    <tr>\n",
       "      <th>1</th>\n",
       "      <td>0.890647</td>\n",
       "      <td>0.884298</td>\n",
       "      <td>0.649057</td>\n",
       "    </tr>\n",
       "    <tr>\n",
       "      <th>2</th>\n",
       "      <td>0.870031</td>\n",
       "      <td>0.794183</td>\n",
       "      <td>0.472393</td>\n",
       "    </tr>\n",
       "    <tr>\n",
       "      <th>3</th>\n",
       "      <td>0.859736</td>\n",
       "      <td>0.770574</td>\n",
       "      <td>0.570815</td>\n",
       "    </tr>\n",
       "    <tr>\n",
       "      <th>4</th>\n",
       "      <td>0.769231</td>\n",
       "      <td>0.840426</td>\n",
       "      <td>0.807018</td>\n",
       "    </tr>\n",
       "    <tr>\n",
       "      <th>...</th>\n",
       "      <td>...</td>\n",
       "      <td>...</td>\n",
       "      <td>...</td>\n",
       "    </tr>\n",
       "    <tr>\n",
       "      <th>9995</th>\n",
       "      <td>0.880857</td>\n",
       "      <td>0.772487</td>\n",
       "      <td>0.791519</td>\n",
       "    </tr>\n",
       "    <tr>\n",
       "      <th>9996</th>\n",
       "      <td>0.906494</td>\n",
       "      <td>0.826531</td>\n",
       "      <td>0.343558</td>\n",
       "    </tr>\n",
       "    <tr>\n",
       "      <th>9997</th>\n",
       "      <td>0.900671</td>\n",
       "      <td>0.874227</td>\n",
       "      <td>0.629268</td>\n",
       "    </tr>\n",
       "    <tr>\n",
       "      <th>9998</th>\n",
       "      <td>0.900709</td>\n",
       "      <td>0.770270</td>\n",
       "      <td>0.691983</td>\n",
       "    </tr>\n",
       "    <tr>\n",
       "      <th>9999</th>\n",
       "      <td>0.820470</td>\n",
       "      <td>0.897796</td>\n",
       "      <td>0.886288</td>\n",
       "    </tr>\n",
       "  </tbody>\n",
       "</table>\n",
       "<p>10000 rows × 3 columns</p>\n",
       "</div>"
      ],
      "text/plain": [
       "          0.40      0.55      0.70\n",
       "0     0.903458  0.867882  0.520619\n",
       "1     0.890647  0.884298  0.649057\n",
       "2     0.870031  0.794183  0.472393\n",
       "3     0.859736  0.770574  0.570815\n",
       "4     0.769231  0.840426  0.807018\n",
       "...        ...       ...       ...\n",
       "9995  0.880857  0.772487  0.791519\n",
       "9996  0.906494  0.826531  0.343558\n",
       "9997  0.900671  0.874227  0.629268\n",
       "9998  0.900709  0.770270  0.691983\n",
       "9999  0.820470  0.897796  0.886288\n",
       "\n",
       "[10000 rows x 3 columns]"
      ]
     },
     "execution_count": 12,
     "metadata": {},
     "output_type": "execute_result"
    }
   ],
   "source": [
    "results"
   ]
  },
  {
   "cell_type": "code",
   "execution_count": null,
   "metadata": {},
   "outputs": [],
   "source": [
    "0"
   ]
  }
 ],
 "metadata": {
  "kernelspec": {
   "display_name": "Python 3",
   "language": "python",
   "name": "python3"
  },
  "language_info": {
   "codemirror_mode": {
    "name": "ipython",
    "version": 3
   },
   "file_extension": ".py",
   "mimetype": "text/x-python",
   "name": "python",
   "nbconvert_exporter": "python",
   "pygments_lexer": "ipython3",
   "version": "3.7.3"
  }
 },
 "nbformat": 4,
 "nbformat_minor": 4
}
