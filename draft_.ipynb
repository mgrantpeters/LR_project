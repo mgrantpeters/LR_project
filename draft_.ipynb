{
 "cells": [
  {
   "cell_type": "code",
   "execution_count": 2,
   "metadata": {},
   "outputs": [
    {
     "name": "stderr",
     "output_type": "stream",
     "text": [
      "c:\\Users\\melis\\AppData\\Local\\Programs\\Python\\Python37\\lib\\site-packages\\tqdm\\auto.py:22: TqdmWarning: IProgress not found. Please update jupyter and ipywidgets. See https://ipywidgets.readthedocs.io/en/stable/user_install.html\n",
      "  from .autonotebook import tqdm as notebook_tqdm\n"
     ]
    }
   ],
   "source": [
    "import numpy as np\n",
    "import pandas as pd\n",
    "import mygene\n",
    "import omnipath as op\n",
    "import matplotlib.pyplot as plt\n",
    "import seaborn as sns\n",
    "import os\n",
    "import glob\n",
    "import mellon as ml\n",
    "from pyensembl import EnsemblRelease\n",
    "import random\n",
    "import netrd\n",
    "import networkx as nx"
   ]
  },
  {
   "cell_type": "code",
   "execution_count": 3,
   "metadata": {},
   "outputs": [],
   "source": [
    "# import gtex expression data\n",
    "\n",
    "gtex_link = 'raw_data/GTEx_tissue_data/GTEx_Analysis_2017-06-05_v8_RNASeQCv1.1.9_gene_median_tpm.gct.gz'\n",
    "exp = pd.read_csv(gtex_link, sep='\\t', index_col='Description', skiprows=2)\n",
    "\n",
    "exp_cns = exp.loc[:, ['Brain - Amygdala',\n",
    "       'Brain - Anterior cingulate cortex (BA24)',\n",
    "       'Brain - Caudate (basal ganglia)', 'Brain - Cerebellar Hemisphere',\n",
    "       'Brain - Cerebellum', 'Brain - Cortex', 'Brain - Frontal Cortex (BA9)',\n",
    "       'Brain - Hippocampus', 'Brain - Hypothalamus',\n",
    "       'Brain - Nucleus accumbens (basal ganglia)',\n",
    "       'Brain - Putamen (basal ganglia)', 'Brain - Spinal cord (cervical c-1)',\n",
    "       'Brain - Substantia nigra']]\n",
    "exp_cns = exp_cns.loc[(exp_cns > 0).any(axis=1)]\n",
    "\n",
    "# import omnipath db\n",
    "db = op.interactions.import_intercell_network(transmitter_params = {\"categories\":\"ligand\"}, receiver_params = {\"categories\": \"receptor\"})\n",
    "db = db[np.logical_not(db['genesymbol_intercell_source'].str.startswith('HLA'))]\n",
    "db = db[np.logical_not(db['genesymbol_intercell_target'].str.startswith('HLA'))]\n",
    "db = db[~db['genesymbol_intercell_target'].astype(str).str.startswith('COMPLEX')]\n",
    "db = db[~db['genesymbol_intercell_source'].astype(str).str.startswith('COMPLEX')]\n",
    "\n",
    "# specify the release number\n",
    "ensembl = EnsemblRelease(109)\n",
    "genes = ensembl.genes()\n",
    "\n",
    "mg = mygene.MyGeneInfo()\n",
    "ensembl_gtex = list(np.unique(pd.DataFrame(list(exp_cns.index.str.split('.')))[0]))\n",
    "\n",
    "# create a DataFrame of gene information\n",
    "ensembl_ann = pd.DataFrame({\n",
    "    'gene_id': [gene.gene_id for gene in genes],\n",
    "    'gene_name': [gene.gene_name for gene in genes],\n",
    "    'chromosome': [gene.contig for gene in genes],\n",
    "    'type': [gene.biotype for gene in genes]\n",
    "})\n",
    "gtex_annotated = ensembl_ann[ensembl_ann['gene_name'].isin(ensembl_gtex)] # take list of genes expressed in brain\n",
    "protein = gtex_annotated[gtex_annotated['type']=='protein_coding']        # take protein-expressing ones\n",
    "protein = protein.rename(columns={'gene_name':'gene'}).set_index('gene', drop=True)\n"
   ]
  },
  {
   "cell_type": "code",
   "execution_count": 4,
   "metadata": {},
   "outputs": [],
   "source": [
    "all_source, pctsrc, all_targets, pcttgt, summary_universe_LR = ml.lr.find_hits(protein,db)  # of these proteins, which LRs are expressed?\n",
    "universe_LRs = list(pd.concat([all_source['gene'],all_targets['gene']]).unique()) # define universe of LRs"
   ]
  },
  {
   "cell_type": "code",
   "execution_count": 5,
   "metadata": {},
   "outputs": [],
   "source": [
    "# \n",
    "reference = pd.read_csv('processed_data/hot-encoded-diseases_0.400000.csv', index_col=0)                     # take actual disease genes\n",
    "df = reference[reference.index.isin(list(ensembl_ann[ensembl_ann['type']=='protein_coding']['gene_name']))]  # take protein coding ones\n",
    "df = df.reset_index().rename(columns={'genes':'gene'}).set_index('gene', drop = True)\n",
    "all_source, pctsrc, all_targets, pcttgt, summary_LR = ml.lr.find_hits(df,db)    \n",
    "disease_LRs = summary_LR[summary_LR['source+target']!='None']              \n",
    "reference = reference[reference.index.isin(list(disease_LRs['gene']))]                                        # filter reference to only include LRs\n",
    "disease_list = list(reference.columns)\n",
    "#universe_LRs = list(set(universe_LRs) - (set(universe_LRs) & set(disease_list))) # Remove from universe any disease-associated proteins\n",
    "iter=10\n",
    "count = 0\n",
    "all_LR_intersects = pd.DataFrame(np.zeros(shape=(iter, pow(len(disease_list), 2))))\n",
    "all_LRI_intersects = pd.DataFrame(np.zeros(shape=(iter, pow(len(disease_list), 2))))\n",
    "all_distances = pd.DataFrame(np.zeros(shape=(iter, pow(len(disease_list), 2))))\n",
    "\n",
    "for disease1 in disease_list:\n",
    "    for disease2 in disease_list:\n",
    "            all_LR_intersects.rename(columns = {count : disease1+'/'+disease2}, inplace = True)\n",
    "            all_LRI_intersects.rename(columns = {count : disease1+'/'+disease2}, inplace = True)\n",
    "            all_distances.rename(columns = {count : disease1+'/'+disease2}, inplace = True)\n",
    "            if (disease2+'/'+disease1) in all_distances.columns:\n",
    "                all_LR_intersects[disease1+'/'+disease2] = all_LR_intersects[disease2+'/'+disease1]\n",
    "                all_LRI_intersects[disease1+'/'+disease2] = all_LRI_intersects[disease2+'/'+disease1]\n",
    "                all_distances[disease1+'/'+disease2] = all_distances[disease2+'/'+disease1]\n",
    "            else:\n",
    "                for i in range(0,iter):\n",
    "                    # Create random list comparable to each disease\n",
    "                    rand_disease1 = random.sample(list(range(0,len(universe_LRs))), int(reference[disease1].sum()))\n",
    "                    rand_disease2 = random.sample(list(range(0,len(universe_LRs))), int(reference[disease2].sum()))\n",
    "                    genes_disease1 = list(pd.DataFrame(universe_LRs).iloc[rand_disease1][0])\n",
    "                    genes_disease2 = list(pd.DataFrame(universe_LRs).iloc[rand_disease2][0])\n",
    "\n",
    "                    ### How many overlapping LRs do random disease 1 and random disease 2 share?\n",
    "                    # Keep only genes with known LR role\n",
    "                    #genes_disease1 = list(genes_disease1[genes_disease1.isin(list(db['genesymbol_intercell_source'])) | genes_disease1.isin(list(db['genesymbol_intercell_target']))].dropna())\n",
    "                    #genes_disease2 = list(genes_disease2[genes_disease2.isin(list(db['genesymbol_intercell_source'])) | genes_disease2.isin(list(db['genesymbol_intercell_target']))].dropna())\n",
    "\n",
    "                    # Check intersect of lists, add total number to all_intersects list\n",
    "                    LR_intersect = len(list(set(genes_disease1) & set(genes_disease2)))\n",
    "                    all_LR_intersects.iloc[i, count] = LR_intersect\n",
    "                    \n",
    "                    ### How many LRIs do random disease 1 and random disease 2 share?\n",
    "                    # Get all LRIs where at least one is linked to diseases \n",
    "                    LRs_disease1 = db[['genesymbol_intercell_source','genesymbol_intercell_target']][(db['genesymbol_intercell_source'].isin(list(genes_disease1))) | (db['genesymbol_intercell_target'].isin(list(genes_disease1)))]\n",
    "                    LRs_disease2 = db[['genesymbol_intercell_source','genesymbol_intercell_target']][(db['genesymbol_intercell_source'].isin(list(genes_disease2))) | (db['genesymbol_intercell_target'].isin(list(genes_disease2)))]\n",
    "                    LRs_disease1 = LRs_disease1.dropna()\n",
    "                    LRs_disease2 = LRs_disease2.dropna()\n",
    "                    LRs_disease1_list = list(LRs_disease1['genesymbol_intercell_source']+LRs_disease1['genesymbol_intercell_target'])\n",
    "                    LRs_disease2_list = list(LRs_disease2['genesymbol_intercell_source']+LRs_disease2['genesymbol_intercell_target'])\n",
    "                    \n",
    "                    # Check intersect of lists\n",
    "                    LRI_intersect = len(list(set(LRs_disease1_list) & set(LRs_disease2_list)))\n",
    "                    all_LRI_intersects.iloc[i, count] = LRI_intersect\n",
    "\n",
    "                    ### How close are the random LR networks?\n",
    "                    # Build an adjacency matrix per disease\n",
    "                    unique_LRs_disease1 = pd.DataFrame(pd.concat([LRs_disease1['genesymbol_intercell_source'],LRs_disease1['genesymbol_intercell_target']], axis = 0).unique())\n",
    "                    unique_LRs_disease2 = pd.DataFrame(pd.concat([LRs_disease2['genesymbol_intercell_source'],LRs_disease2['genesymbol_intercell_target']], axis = 0).unique())\n",
    "                    both_unique = pd.concat([unique_LRs_disease1, unique_LRs_disease2], axis = 0)[0].unique()\n",
    "                    # For deltacon comparison, the axes of the adjacency matrix must be the same\n",
    "                    adj_LRs_disease1 = pd.DataFrame(np.zeros(shape=(len(both_unique), len(both_unique))), index = both_unique, columns = both_unique)\n",
    "                    adj_LRs_disease2 = pd.DataFrame(np.zeros(shape=(len(both_unique), len(both_unique))), index = both_unique, columns = both_unique)\n",
    "                    for n in range (0, np.shape(LRs_disease1)[0]):\n",
    "                        adj_LRs_disease1.iloc[adj_LRs_disease1.index.get_loc(LRs_disease1.iloc[n]['genesymbol_intercell_source']), adj_LRs_disease1.columns.get_loc(LRs_disease1.iloc[n]['genesymbol_intercell_target'])] += 1\n",
    "                    for n in range (0, np.shape(LRs_disease2)[0]):\n",
    "                        adj_LRs_disease2.iloc[adj_LRs_disease2.index.get_loc(LRs_disease2.iloc[n]['genesymbol_intercell_source']), adj_LRs_disease2.columns.get_loc(LRs_disease2.iloc[n]['genesymbol_intercell_target'])] += 1\n",
    "                    if (len(LRs_disease1)<1) or (len(LRs_disease2)<1):\n",
    "                        all_distances.iloc[i, count] = 99\n",
    "                    else:\n",
    "                        # Create network and detect communities\n",
    "                        G1 = nx.from_pandas_adjacency(adj_LRs_disease1)\n",
    "                        G2 = nx.from_pandas_adjacency(adj_LRs_disease2)\n",
    "                        # Calculate network distance\n",
    "                        delta = netrd.distance.DeltaCon()\n",
    "                        distance = delta.dist(G1, G2)\n",
    "\n",
    "                        all_distances.iloc[i, count] = distance\n",
    "            count+=1 \n",
    "\n",
    "#all_LR_intersects.to_csv('processed_data/02a_bootstrapped_disease_comparisons/bootstrapped_LRs_disease_comparisons.csv')\n",
    "#all_LRI_intersects.to_csv('processed_data/02a_bootstrapped_disease_comparisons/bootstrapped_LRIs_disease_comparisons.csv')\n",
    "#all_distances.to_csv('processed_data/02a_bootstrapped_disease_comparisons/bootstrapped_distances_disease_comparisons.csv')\n"
   ]
  },
  {
   "cell_type": "code",
   "execution_count": 6,
   "metadata": {},
   "outputs": [],
   "source": [
    "reference = pd.read_csv('processed_data/hot-encoded-diseases_0.400000.csv', index_col=0)\n",
    "df = reference[reference.index.isin(list(ensembl_ann[ensembl_ann['type']=='protein_coding']['gene_name']))]\n",
    "df = df.reset_index().rename(columns={'genes':'gene'}).set_index('gene', drop = True)\n",
    "all_source, pctsrc, all_targets, pcttgt, summary_LR = ml.lr.find_hits(df,db)\n",
    "reference = reference[reference.index.isin(list(summary_LR['gene']))] # filter reference to only include LRs\n",
    "disease_list = list(reference.columns)\n",
    "iter=1\n",
    "count = 0\n",
    "\n",
    "iter=1\n",
    "count = 0\n",
    "real_LR_intersects = pd.DataFrame(np.zeros(shape=(iter, pow(len(disease_list), 2))))\n",
    "real_LRI_intersects = pd.DataFrame(np.zeros(shape=(iter, pow(len(disease_list), 2))))\n",
    "real_distances = pd.DataFrame(np.zeros(shape=(iter, pow(len(disease_list), 2))))\n",
    "\n",
    "for disease1 in disease_list:\n",
    "    for disease2 in disease_list:\n",
    "            real_LR_intersects.rename(columns = {count : disease1+'/'+disease2}, inplace = True)\n",
    "            real_LRI_intersects.rename(columns = {count : disease1+'/'+disease2}, inplace = True)\n",
    "            real_distances.rename(columns = {count : disease1+'/'+disease2}, inplace = True)\n",
    "            for i in range(0,iter):\n",
    "                # Create random list comparable to each disease\n",
    "                genes_disease1 = pd.DataFrame(reference[reference[disease1]==1].index)\n",
    "                genes_disease2 = pd.DataFrame(reference[reference[disease2]==1].index)\n",
    "\n",
    "                ### How many overlapping LRs do random disease 1 and random disease 2 share?\n",
    "                # Keep only genes with known LR role\n",
    "                genes_disease1 = list(genes_disease1[genes_disease1.isin(list(db['genesymbol_intercell_source'])) | genes_disease1.isin(list(db['genesymbol_intercell_target']))].dropna()['genes'])\n",
    "                genes_disease2 = list(genes_disease2[genes_disease2.isin(list(db['genesymbol_intercell_source'])) | genes_disease2.isin(list(db['genesymbol_intercell_target']))].dropna()['genes'])\n",
    "\n",
    "                # Check intersect of lists, add total number to all_intersects list\n",
    "                LR_intersect = len(list(set(genes_disease1) & set(genes_disease2)))\n",
    "                real_LR_intersects.iloc[i, count] = LR_intersect\n",
    "                \n",
    "                ### How many LRIs do random disease 1 and random disease 2 share?\n",
    "                # Get all LRIs where at least one is linked to diseases \n",
    "                LRs_disease1 = db[['genesymbol_intercell_source','genesymbol_intercell_target']][(db['genesymbol_intercell_source'].isin(list(genes_disease1))) | (db['genesymbol_intercell_target'].isin(list(genes_disease1)))]\n",
    "                LRs_disease2 = db[['genesymbol_intercell_source','genesymbol_intercell_target']][(db['genesymbol_intercell_source'].isin(list(genes_disease2))) | (db['genesymbol_intercell_target'].isin(list(genes_disease2)))]\n",
    "                LRs_disease1 = LRs_disease1.dropna()\n",
    "                LRs_disease2 = LRs_disease2.dropna()\n",
    "                LRs_disease1_list = list(LRs_disease1['genesymbol_intercell_source']+LRs_disease1['genesymbol_intercell_target'])\n",
    "                LRs_disease2_list = list(LRs_disease2['genesymbol_intercell_source']+LRs_disease2['genesymbol_intercell_target'])\n",
    "                \n",
    "                # Check intersect of lists\n",
    "                LRI_intersect = len(list(set(LRs_disease1_list) & set(LRs_disease2_list)))\n",
    "                real_LRI_intersects.iloc[i, count] = LRI_intersect\n",
    "\n",
    "                ### How close are the random LR networks?\n",
    "                # Build an adjacency matrix per disease\n",
    "                unique_LRs_disease1 = pd.DataFrame(pd.concat([LRs_disease1['genesymbol_intercell_source'],LRs_disease1['genesymbol_intercell_target']], axis = 0).unique())\n",
    "                unique_LRs_disease2 = pd.DataFrame(pd.concat([LRs_disease2['genesymbol_intercell_source'],LRs_disease2['genesymbol_intercell_target']], axis = 0).unique())\n",
    "                both_unique = pd.concat([unique_LRs_disease1, unique_LRs_disease2], axis = 0)[0].unique()\n",
    "                # For deltacon comparison, the axes of the adjacency matrix must be the same\n",
    "                adj_LRs_disease1 = pd.DataFrame(np.zeros(shape=(len(both_unique), len(both_unique))), index = both_unique, columns = both_unique)\n",
    "                adj_LRs_disease2 = pd.DataFrame(np.zeros(shape=(len(both_unique), len(both_unique))), index = both_unique, columns = both_unique)\n",
    "                for n in range (0, np.shape(LRs_disease1)[0]):\n",
    "                    adj_LRs_disease1.iloc[adj_LRs_disease1.index.get_loc(LRs_disease1.iloc[n]['genesymbol_intercell_source']), adj_LRs_disease1.columns.get_loc(LRs_disease1.iloc[n]['genesymbol_intercell_target'])] += 1\n",
    "                for n in range (0, np.shape(LRs_disease2)[0]):\n",
    "                    adj_LRs_disease2.iloc[adj_LRs_disease2.index.get_loc(LRs_disease2.iloc[n]['genesymbol_intercell_source']), adj_LRs_disease2.columns.get_loc(LRs_disease2.iloc[n]['genesymbol_intercell_target'])] += 1\n",
    "                if (len(LRs_disease1)<1) or (len(LRs_disease2)<1):\n",
    "                    real_distances.iloc[i, count] = 99\n",
    "                else:\n",
    "                    # Create network and detect communities\n",
    "                    G1 = nx.from_pandas_adjacency(adj_LRs_disease1)\n",
    "                    G2 = nx.from_pandas_adjacency(adj_LRs_disease2)\n",
    "                    # Calculate network distance\n",
    "                    delta = netrd.distance.DeltaCon()\n",
    "                    distance = delta.dist(G1, G2)\n",
    "\n",
    "                    real_distances.iloc[i, count] = distance\n",
    "            count+=1 "
   ]
  },
  {
   "cell_type": "code",
   "execution_count": 21,
   "metadata": {},
   "outputs": [],
   "source": [
    "bla = all_distances.columns[80]"
   ]
  },
  {
   "cell_type": "code",
   "execution_count": 25,
   "metadata": {},
   "outputs": [
    {
     "data": {
      "text/plain": [
       "0"
      ]
     },
     "execution_count": 25,
     "metadata": {},
     "output_type": "execute_result"
    }
   ],
   "source": [
    "(all_LR_intersects[all_distances.columns[80]]>real_LR_intersects[all_distances.columns[80]][0]).sum()"
   ]
  },
  {
   "cell_type": "code",
   "execution_count": 31,
   "metadata": {},
   "outputs": [
    {
     "ename": "ValueError",
     "evalue": "The truth value of a Series is ambiguous. Use a.empty, a.bool(), a.item(), a.any() or a.all().",
     "output_type": "error",
     "traceback": [
      "\u001b[1;31m---------------------------------------------------------------------------\u001b[0m",
      "\u001b[1;31mValueError\u001b[0m                                Traceback (most recent call last)",
      "\u001b[1;32m~\\AppData\\Local\\Temp\\ipykernel_8056\\806316597.py\u001b[0m in \u001b[0;36m<module>\u001b[1;34m\u001b[0m\n\u001b[0;32m      1\u001b[0m \u001b[0mreal_LR_intersects\u001b[0m\u001b[1;33m[\u001b[0m\u001b[0mall_distances\u001b[0m\u001b[1;33m.\u001b[0m\u001b[0mcolumns\u001b[0m\u001b[1;33m[\u001b[0m\u001b[1;36m80\u001b[0m\u001b[1;33m]\u001b[0m\u001b[1;33m]\u001b[0m\u001b[1;33m[\u001b[0m\u001b[1;36m0\u001b[0m\u001b[1;33m]\u001b[0m\u001b[1;33m==\u001b[0m\u001b[1;36m0\u001b[0m\u001b[1;33m\u001b[0m\u001b[1;33m\u001b[0m\u001b[0m\n\u001b[0;32m      2\u001b[0m \u001b[1;33m\u001b[0m\u001b[0m\n\u001b[1;32m----> 3\u001b[1;33m \u001b[1;32mif\u001b[0m \u001b[1;33m(\u001b[0m\u001b[0mall_LR_intersects\u001b[0m\u001b[1;33m[\u001b[0m\u001b[0mall_distances\u001b[0m\u001b[1;33m.\u001b[0m\u001b[0mcolumns\u001b[0m\u001b[1;33m[\u001b[0m\u001b[1;36m80\u001b[0m\u001b[1;33m]\u001b[0m\u001b[1;33m]\u001b[0m\u001b[1;33m==\u001b[0m\u001b[1;36m0\u001b[0m\u001b[1;33m)\u001b[0m \u001b[1;32mand\u001b[0m \u001b[1;33m(\u001b[0m\u001b[0mreal_LR_intersects\u001b[0m\u001b[1;33m[\u001b[0m\u001b[0mall_distances\u001b[0m\u001b[1;33m.\u001b[0m\u001b[0mcolumns\u001b[0m\u001b[1;33m[\u001b[0m\u001b[1;36m80\u001b[0m\u001b[1;33m]\u001b[0m\u001b[1;33m]\u001b[0m\u001b[1;33m[\u001b[0m\u001b[1;36m0\u001b[0m\u001b[1;33m]\u001b[0m\u001b[1;33m==\u001b[0m\u001b[1;36m0\u001b[0m\u001b[1;33m)\u001b[0m\u001b[1;33m:\u001b[0m\u001b[1;33m\u001b[0m\u001b[1;33m\u001b[0m\u001b[0m\n\u001b[0m\u001b[0;32m      4\u001b[0m     \u001b[0mprint\u001b[0m\u001b[1;33m(\u001b[0m\u001b[1;34m'ZERO'\u001b[0m\u001b[1;33m)\u001b[0m\u001b[1;33m\u001b[0m\u001b[1;33m\u001b[0m\u001b[0m\n",
      "\u001b[1;32mc:\\Users\\melis\\AppData\\Local\\Programs\\Python\\Python37\\lib\\site-packages\\pandas\\core\\generic.py\u001b[0m in \u001b[0;36m__nonzero__\u001b[1;34m(self)\u001b[0m\n\u001b[0;32m   1536\u001b[0m     \u001b[1;32mdef\u001b[0m \u001b[0m__nonzero__\u001b[0m\u001b[1;33m(\u001b[0m\u001b[0mself\u001b[0m\u001b[1;33m)\u001b[0m\u001b[1;33m:\u001b[0m\u001b[1;33m\u001b[0m\u001b[1;33m\u001b[0m\u001b[0m\n\u001b[0;32m   1537\u001b[0m         raise ValueError(\n\u001b[1;32m-> 1538\u001b[1;33m             \u001b[1;34mf\"The truth value of a {type(self).__name__} is ambiguous. \"\u001b[0m\u001b[1;33m\u001b[0m\u001b[1;33m\u001b[0m\u001b[0m\n\u001b[0m\u001b[0;32m   1539\u001b[0m             \u001b[1;34m\"Use a.empty, a.bool(), a.item(), a.any() or a.all().\"\u001b[0m\u001b[1;33m\u001b[0m\u001b[1;33m\u001b[0m\u001b[0m\n\u001b[0;32m   1540\u001b[0m         )\n",
      "\u001b[1;31mValueError\u001b[0m: The truth value of a Series is ambiguous. Use a.empty, a.bool(), a.item(), a.any() or a.all()."
     ]
    }
   ],
   "source": [
    "real_LR_intersects[all_distances.columns[80]][0]==0\n",
    "\n",
    "if (all_LR_intersects[all_distances.columns[80]]==0) and (real_LR_intersects[all_distances.columns[80]][0]==0):\n",
    "    print('ZERO')"
   ]
  },
  {
   "cell_type": "code",
   "execution_count": 38,
   "metadata": {},
   "outputs": [
    {
     "data": {
      "text/plain": [
       "0.1"
      ]
     },
     "execution_count": 38,
     "metadata": {},
     "output_type": "execute_result"
    }
   ],
   "source": [
    "(all_LR_intersects[all_distances.columns[80]]>real_LR_intersects[all_distances.columns[80]][0]).sum()/10"
   ]
  },
  {
   "cell_type": "code",
   "execution_count": 42,
   "metadata": {},
   "outputs": [
    {
     "data": {
      "text/plain": [
       "0    0.0\n",
       "1    0.0\n",
       "2    0.0\n",
       "3    0.0\n",
       "4    0.0\n",
       "5    0.0\n",
       "6    0.0\n",
       "7    0.0\n",
       "8    0.0\n",
       "9    0.0\n",
       "Name: BrainAneurysm/MigraineDisorder, dtype: float64"
      ]
     },
     "execution_count": 42,
     "metadata": {},
     "output_type": "execute_result"
    }
   ],
   "source": [
    "all_LR_intersects[all_distances.columns[80]].sum"
   ]
  },
  {
   "cell_type": "code",
   "execution_count": 47,
   "metadata": {},
   "outputs": [],
   "source": [
    "pvals_LR = []\n",
    "pvals_LRI = []\n",
    "pvals_dist = []\n",
    "\n",
    "for pair in list(all_distances.columns):\n",
    "    if all_LR_intersects[pair].sum()==0:\n",
    "        pvals_LR.append(1)\n",
    "    else:\n",
    "        pvals_LR.append((all_LR_intersects[pair]>real_LR_intersects[pair][0]).sum()/10)\n",
    "    if all_LRI_intersects[pair].sum()==0:\n",
    "        pvals_LRI.append(1)\n",
    "    else:\n",
    "        pvals_LRI.append((all_LRI_intersects[pair]>real_LRI_intersects[pair][0]).sum()/10)\n",
    "    if all_distances[pair].sum()==0:\n",
    "        pvals_dist.append(1)\n",
    "    else:\n",
    "        pvals_dist.append((all_distances[pair]>real_distances[pair][0]).sum()/10)"
   ]
  },
  {
   "cell_type": "code",
   "execution_count": null,
   "metadata": {},
   "outputs": [],
   "source": [
    "pvals_LR = []\n",
    "pvals_LRI = []\n",
    "pvals_dist = []\n",
    "for pair in list(all_distances.columns):\n",
    "    if all_LR_intersects[pair].sum()==0:\n",
    "        pvals_LR.append(1)\n",
    "    else:\n",
    "        pvals_LR.append((all_LR_intersects[pair]>real_LR_intersects[pair][0]).sum()/10)\n",
    "    pvals_LRI.append((all_LRI_intersects[pair]>real_LRI_intersects[pair][0]).sum()/10)\n",
    "    pvals_dist.append((all_distances[pair]<real_distances[pair][0]).sum()/10)\n",
    "\n",
    "pd.DataFrame(np.asarray(pvals_LR).reshape(18,18), columns = disease_list, index = disease_list)#.to_csv('processed_data/02a_bootstrapped_disease_comparisons/pvals_overlapping_LRs.csv')\n",
    "pd.DataFrame(np.asarray(pvals_LRI).reshape(18,18), columns = disease_list, index = disease_list)#.to_csv('processed_data/02a_bootstrapped_disease_comparisons/pvals_overlapping_LRIs.csv')\n",
    "pd.DataFrame(np.asarray(pvals_dist).reshape(18,18), columns = disease_list, index = disease_list)#.to_csv('processed_data/02a_bootstrapped_disease_comparisons/pvals_deltacon_distances.csv')"
   ]
  }
 ],
 "metadata": {
  "kernelspec": {
   "display_name": "Python 3",
   "language": "python",
   "name": "python3"
  },
  "language_info": {
   "codemirror_mode": {
    "name": "ipython",
    "version": 3
   },
   "file_extension": ".py",
   "mimetype": "text/x-python",
   "name": "python",
   "nbconvert_exporter": "python",
   "pygments_lexer": "ipython3",
   "version": "3.7.3"
  }
 },
 "nbformat": 4,
 "nbformat_minor": 2
}
