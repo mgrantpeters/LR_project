{
 "cells": [
  {
   "cell_type": "code",
   "execution_count": 5,
   "metadata": {},
   "outputs": [],
   "source": [
    "import numpy as np\n",
    "import pandas as pd\n",
    "import mygene\n",
    "import omnipath as op\n",
    "import matplotlib.pyplot as plt\n",
    "import seaborn as sns\n",
    "import os\n",
    "import glob\n",
    "import mellon as ml\n",
    "from pyensembl import EnsemblRelease\n"
   ]
  },
  {
   "cell_type": "code",
   "execution_count": 9,
   "metadata": {},
   "outputs": [],
   "source": [
    "gtex_link = 'raw_data/GTEx_tissue_data/GTEx_Analysis_2017-06-05_v8_RNASeQCv1.1.9_gene_median_tpm.gct.gz'\n",
    "exp = pd.read_csv(gtex_link, sep='\\t', index_col='Description', skiprows=2)\n",
    "exp_cns = exp.loc[:, ['Brain - Anterior cingulate cortex (BA24)',\n",
    "       'Brain - Caudate (basal ganglia)', 'Brain - Cerebellar Hemisphere',\n",
    "       'Brain - Cerebellum', 'Brain - Cortex', 'Brain - Frontal Cortex (BA9)',\n",
    "       'Brain - Hippocampus', 'Brain - Hypothalamus',\n",
    "       'Brain - Nucleus accumbens (basal ganglia)',\n",
    "       'Brain - Putamen (basal ganglia)', 'Brain - Spinal cord (cervical c-1)',\n",
    "       'Brain - Substantia nigra']]\n",
    "exp_cns = exp_cns.loc[(exp_cns > 0).any(axis=1)]\n",
    "\n",
    "# import omnipath db\n",
    "db = op.interactions.import_intercell_network(transmitter_params = {\"categories\":\"ligand\"}, receiver_params = {\"categories\": \"receptor\"})\n",
    "db = db[np.logical_not(db['genesymbol_intercell_source'].str.startswith('HLA'))]\n",
    "db = db[np.logical_not(db['genesymbol_intercell_target'].str.startswith('HLA'))]\n",
    "db = db[~db['genesymbol_intercell_target'].astype(str).str.startswith('COMPLEX')]\n",
    "db = db[~db['genesymbol_intercell_source'].astype(str).str.startswith('COMPLEX')]\n",
    "\n",
    "# convert gtex gene names from ENSEMBL to gene symbols\n",
    "#mg = mygene.MyGeneInfo()\n",
    "#ensembl_gtex = list(np.unique(pd.DataFrame(list(exp_cns.index.str.split('.')))[0]))\n",
    "#symbols_gtex = mg.querymany(ensembl_gtex, scopes='ensembl.gene', fields='symbol', species='human')\n",
    "#symbols_gtex = pd.DataFrame(symbols_gtex)['symbol']\n",
    "\n",
    "# specify the release number\n",
    "ensembl = EnsemblRelease(109)\n",
    "genes = ensembl.genes()\n",
    "\n",
    "mg = mygene.MyGeneInfo()\n",
    "ensembl_gtex = list(np.unique(pd.DataFrame(list(exp_cns.index.str.split('.')))[0]))\n",
    "\n",
    "# create a DataFrame of gene information\n",
    "ensembl_ann = pd.DataFrame({\n",
    "    'gene_id': [gene.gene_id for gene in genes],\n",
    "    'gene_name': [gene.gene_name for gene in genes],\n",
    "    'chromosome': [gene.contig for gene in genes],\n",
    "    'type': [gene.biotype for gene in genes]\n",
    "})\n",
    "gtex_annotated = ensembl_ann[ensembl_ann['gene_name'].isin(ensembl_gtex)] # take list of genes expressed in brain\n",
    "protein = gtex_annotated[gtex_annotated['type']=='protein_coding']        # take protein-expressing ones\n",
    "protein = protein.rename(columns={'gene_name':'gene'}).set_index('gene', drop=True)"
   ]
  },
  {
   "cell_type": "code",
   "execution_count": 11,
   "metadata": {},
   "outputs": [],
   "source": [
    "protein.to_csv('processed_data/03-LR_network_visualisation/03h_GO_enrich_across_thresholds/universe_GOenrich_brain_proteins.csv')"
   ]
  },
  {
   "cell_type": "code",
   "execution_count": 8,
   "metadata": {},
   "outputs": [
    {
     "data": {
      "text/plain": [
       "gene\n",
       "TSPAN6      protein_coding\n",
       "TNMD        protein_coding\n",
       "DPM1        protein_coding\n",
       "SCYL3       protein_coding\n",
       "C1orf112    protein_coding\n",
       "                 ...      \n",
       "RPSAP58     protein_coding\n",
       "PPIAL4D     protein_coding\n",
       "NOX5        protein_coding\n",
       "HOMEZ       protein_coding\n",
       "SOD2        protein_coding\n",
       "Name: type, Length: 17110, dtype: object"
      ]
     },
     "execution_count": 8,
     "metadata": {},
     "output_type": "execute_result"
    }
   ],
   "source": [
    "protein['type']"
   ]
  },
  {
   "cell_type": "code",
   "execution_count": null,
   "metadata": {},
   "outputs": [],
   "source": []
  }
 ],
 "metadata": {
  "kernelspec": {
   "display_name": "Python 3",
   "language": "python",
   "name": "python3"
  },
  "language_info": {
   "codemirror_mode": {
    "name": "ipython",
    "version": 3
   },
   "file_extension": ".py",
   "mimetype": "text/x-python",
   "name": "python",
   "nbconvert_exporter": "python",
   "pygments_lexer": "ipython3",
   "version": "3.7.3"
  }
 },
 "nbformat": 4,
 "nbformat_minor": 2
}
