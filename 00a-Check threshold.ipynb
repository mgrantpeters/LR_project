{
 "cells": [
  {
   "cell_type": "code",
   "execution_count": 1,
   "metadata": {},
   "outputs": [],
   "source": [
    "import numpy as np\n",
    "import pandas as pd\n",
    "import os, glob\n",
    "from sklearn.preprocessing import OneHotEncoder\n",
    "import matplotlib.pyplot as plt"
   ]
  },
  {
   "cell_type": "code",
   "execution_count": 2,
   "metadata": {},
   "outputs": [],
   "source": [
    "path = glob.glob(\"raw_data/*.tsv\")\n",
    "thr = [0.0]\n",
    "for m in thr:\n",
    "    for n in range (0,len(path)):\n",
    "        dis = pd.read_csv(path[n], delimiter = '\\t')\n",
    "        dis = dis[['symbol', 'objectObject']]  # Take gene symbol and column containing genetic association score\n",
    "        dis = dis[dis['objectObject']>m]  # Filter based on chosen risk threshold \n",
    "        dis['disease'] = glob.glob(\"raw_data/*.tsv\")[n].split(\"\\\\\")[1].split(\"_\")[0]  # get disease name\n",
    "        dis.rename(columns = {'objectObject': 'genetic association'}, inplace = True)\n",
    "        if np.shape(dis)[0]>10:\n",
    "                if n==0:\n",
    "                    alldis = dis\n",
    "                else:\n",
    "                    alldis = pd.concat([alldis, dis]).fillna(0)\n",
    "        else:\n",
    "            print(disease, \" doesn't have enough genes with high genetic scores.\")\n"
   ]
  },
  {
   "cell_type": "code",
   "execution_count": 3,
   "metadata": {},
   "outputs": [
    {
     "data": {
      "image/png": "[encoded data removed]",
      "text/plain": [
       "<Figure size 432x288 with 1 Axes>"
      ]
     },
     "metadata": {
      "needs_background": "light"
     },
     "output_type": "display_data"
    }
   ],
   "source": [
    "alldis['genetic association'].hist(bins = 20, color = 'teal', alpha = 0.5)\n",
    "plt.axvline(x = 0.4, color = 'navy', linestyle = '--')\n",
    "plt.xlabel('Genetic risk score')\n",
    "plt.ylabel('Total genes')\n",
    "plt.savefig('plots/00-Prechecks/Distribution_GENESxSCORES.png', dpi = 300)\n",
    "plt.show()"
   ]
  },
  {
   "cell_type": "code",
   "execution_count": null,
   "metadata": {},
   "outputs": [],
   "source": []
  }
 ],
 "metadata": {
  "kernelspec": {
   "display_name": "Python 3",
   "language": "python",
   "name": "python3"
  },
  "language_info": {
   "codemirror_mode": {
    "name": "ipython",
    "version": 3
   },
   "file_extension": ".py",
   "mimetype": "text/x-python",
   "name": "python",
   "nbconvert_exporter": "python",
   "pygments_lexer": "ipython3",
   "version": "3.7.3"
  },
  "orig_nbformat": 4
 },
 "nbformat": 4,
 "nbformat_minor": 2
}
