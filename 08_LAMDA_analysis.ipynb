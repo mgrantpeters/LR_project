{
 "cells": [
  {
   "cell_type": "code",
   "execution_count": 157,
   "metadata": {},
   "outputs": [],
   "source": [
    "import pandas as pd\n",
    "import numpy as np"
   ]
  },
  {
   "cell_type": "code",
   "execution_count": 158,
   "metadata": {},
   "outputs": [],
   "source": [
    "df = pd.read_csv('raw_data/LAMDA_genes/LAMDA_Signature_Human.csv')\n",
    "df = df[(df['Color']=='Enriched in NeuN FDR < 0.01') | (df['Color']=='Enriched in pSyn FDR < 0.01') | (df['Color']=='Enriched in NeuN FDR < 0.05') | (df['Color']=='Enriched in pSyn FDR < 0.05')]"
   ]
  },
  {
   "cell_type": "code",
   "execution_count": 159,
   "metadata": {},
   "outputs": [],
   "source": [
    "\n"
   ]
  },
  {
   "cell_type": "code",
   "execution_count": 160,
   "metadata": {},
   "outputs": [
    {
     "data": {
      "text/plain": [
       "<AxesSubplot:xlabel='Color'>"
      ]
     },
     "execution_count": 160,
     "metadata": {},
     "output_type": "execute_result"
    },
    {
     "data": {
      "image/png": "[encoded data removed]",
      "text/plain": [
       "<Figure size 432x288 with 1 Axes>"
      ]
     },
     "metadata": {
      "needs_background": "light"
     },
     "output_type": "display_data"
    }
   ],
   "source": [
    "net = pd.read_csv('processed_data/03-LR_network_visualisation/louvain_largest_cluster_0.4.csv', sep = ',', index_col = 0)\n",
    "net = net.merge(df, left_on = '0', right_on = 'Feature', how = 'left')\n",
    "net['Color'] = net['Color'].replace(np.nan, 'NS')\n",
    "net['counts'] = 1\n",
    "net.groupby('Color').sum()[\"counts\"]\n",
    "counts = net.groupby('Color').sum()['counts']\n",
    "norm = (counts/counts.sum()*100)\n",
    "norm.plot.bar()"
   ]
  },
  {
   "cell_type": "code",
   "execution_count": 161,
   "metadata": {},
   "outputs": [
    {
     "data": {
      "text/plain": [
       "Color\n",
       "Enriched in NeuN FDR < 0.01     1.387283\n",
       "Enriched in NeuN FDR < 0.05     2.080925\n",
       "Enriched in pSyn FDR < 0.01     1.387283\n",
       "Enriched in pSyn FDR < 0.05     2.427746\n",
       "NS                             92.716763\n",
       "Name: counts, dtype: float64"
      ]
     },
     "execution_count": 161,
     "metadata": {},
     "output_type": "execute_result"
    }
   ],
   "source": [
    "norm"
   ]
  },
  {
   "cell_type": "code",
   "execution_count": 162,
   "metadata": {},
   "outputs": [
    {
     "data": {
      "text/html": [
       "<div>\n",
       "<style scoped>\n",
       "    .dataframe tbody tr th:only-of-type {\n",
       "        vertical-align: middle;\n",
       "    }\n",
       "\n",
       "    .dataframe tbody tr th {\n",
       "        vertical-align: top;\n",
       "    }\n",
       "\n",
       "    .dataframe thead th {\n",
       "        text-align: right;\n",
       "    }\n",
       "</style>\n",
       "<table border=\"1\" class=\"dataframe\">\n",
       "  <thead>\n",
       "    <tr style=\"text-align: right;\">\n",
       "      <th></th>\n",
       "      <th>0</th>\n",
       "      <th>Unnamed: 0</th>\n",
       "      <th>Feature</th>\n",
       "      <th>Comparison</th>\n",
       "      <th>Estimate</th>\n",
       "      <th>P</th>\n",
       "      <th>FDR</th>\n",
       "      <th>Gene</th>\n",
       "      <th>Color</th>\n",
       "      <th>invert_P</th>\n",
       "      <th>counts</th>\n",
       "    </tr>\n",
       "  </thead>\n",
       "  <tbody>\n",
       "    <tr>\n",
       "      <th>1</th>\n",
       "      <td>NRG1</td>\n",
       "      <td>3044.0</td>\n",
       "      <td>NRG1</td>\n",
       "      <td>NeuN vs pSyn</td>\n",
       "      <td>0.536692</td>\n",
       "      <td>0.000277</td>\n",
       "      <td>0.004106</td>\n",
       "      <td>NRG1</td>\n",
       "      <td>Enriched in pSyn FDR &lt; 0.01</td>\n",
       "      <td>3.557714</td>\n",
       "      <td>1</td>\n",
       "    </tr>\n",
       "    <tr>\n",
       "      <th>22</th>\n",
       "      <td>MFGE8</td>\n",
       "      <td>7621.0</td>\n",
       "      <td>MFGE8</td>\n",
       "      <td>NeuN vs pSyn</td>\n",
       "      <td>0.770833</td>\n",
       "      <td>0.006314</td>\n",
       "      <td>0.033536</td>\n",
       "      <td>MFGE8</td>\n",
       "      <td>Enriched in pSyn FDR &lt; 0.05</td>\n",
       "      <td>2.199668</td>\n",
       "      <td>1</td>\n",
       "    </tr>\n",
       "    <tr>\n",
       "      <th>41</th>\n",
       "      <td>FAM3C</td>\n",
       "      <td>748.0</td>\n",
       "      <td>FAM3C</td>\n",
       "      <td>NeuN vs pSyn</td>\n",
       "      <td>-1.017047</td>\n",
       "      <td>0.004955</td>\n",
       "      <td>0.028737</td>\n",
       "      <td>FAM3C</td>\n",
       "      <td>Enriched in NeuN FDR &lt; 0.05</td>\n",
       "      <td>-2.304961</td>\n",
       "      <td>1</td>\n",
       "    </tr>\n",
       "    <tr>\n",
       "      <th>46</th>\n",
       "      <td>SCARB1</td>\n",
       "      <td>3373.0</td>\n",
       "      <td>SCARB1</td>\n",
       "      <td>NeuN vs pSyn</td>\n",
       "      <td>0.745332</td>\n",
       "      <td>0.009217</td>\n",
       "      <td>0.042583</td>\n",
       "      <td>SCARB1</td>\n",
       "      <td>Enriched in pSyn FDR &lt; 0.05</td>\n",
       "      <td>2.035404</td>\n",
       "      <td>1</td>\n",
       "    </tr>\n",
       "    <tr>\n",
       "      <th>78</th>\n",
       "      <td>CNTN1</td>\n",
       "      <td>7852.0</td>\n",
       "      <td>CNTN1</td>\n",
       "      <td>NeuN vs pSyn</td>\n",
       "      <td>-0.722287</td>\n",
       "      <td>0.000002</td>\n",
       "      <td>0.000151</td>\n",
       "      <td>CNTN1</td>\n",
       "      <td>Enriched in NeuN FDR &lt; 0.01</td>\n",
       "      <td>-5.631156</td>\n",
       "      <td>1</td>\n",
       "    </tr>\n",
       "    <tr>\n",
       "      <th>...</th>\n",
       "      <td>...</td>\n",
       "      <td>...</td>\n",
       "      <td>...</td>\n",
       "      <td>...</td>\n",
       "      <td>...</td>\n",
       "      <td>...</td>\n",
       "      <td>...</td>\n",
       "      <td>...</td>\n",
       "      <td>...</td>\n",
       "      <td>...</td>\n",
       "      <td>...</td>\n",
       "    </tr>\n",
       "    <tr>\n",
       "      <th>840</th>\n",
       "      <td>NRXN3</td>\n",
       "      <td>1056.0</td>\n",
       "      <td>NRXN3</td>\n",
       "      <td>NeuN vs pSyn</td>\n",
       "      <td>0.566038</td>\n",
       "      <td>0.000143</td>\n",
       "      <td>0.002595</td>\n",
       "      <td>NRXN3</td>\n",
       "      <td>Enriched in pSyn FDR &lt; 0.01</td>\n",
       "      <td>3.844709</td>\n",
       "      <td>1</td>\n",
       "    </tr>\n",
       "    <tr>\n",
       "      <th>843</th>\n",
       "      <td>SEMA3E</td>\n",
       "      <td>4080.0</td>\n",
       "      <td>SEMA3E</td>\n",
       "      <td>NeuN vs pSyn</td>\n",
       "      <td>0.838468</td>\n",
       "      <td>0.003117</td>\n",
       "      <td>0.021286</td>\n",
       "      <td>SEMA3E</td>\n",
       "      <td>Enriched in pSyn FDR &lt; 0.05</td>\n",
       "      <td>2.506282</td>\n",
       "      <td>1</td>\n",
       "    </tr>\n",
       "    <tr>\n",
       "      <th>846</th>\n",
       "      <td>FGF12</td>\n",
       "      <td>2917.0</td>\n",
       "      <td>FGF12</td>\n",
       "      <td>NeuN vs pSyn</td>\n",
       "      <td>-0.757175</td>\n",
       "      <td>0.009780</td>\n",
       "      <td>0.043949</td>\n",
       "      <td>FGF12</td>\n",
       "      <td>Enriched in NeuN FDR &lt; 0.05</td>\n",
       "      <td>-2.009667</td>\n",
       "      <td>1</td>\n",
       "    </tr>\n",
       "    <tr>\n",
       "      <th>852</th>\n",
       "      <td>GRM5</td>\n",
       "      <td>201.0</td>\n",
       "      <td>GRM5</td>\n",
       "      <td>NeuN vs pSyn</td>\n",
       "      <td>-0.684534</td>\n",
       "      <td>0.003197</td>\n",
       "      <td>0.021599</td>\n",
       "      <td>GRM5</td>\n",
       "      <td>Enriched in NeuN FDR &lt; 0.05</td>\n",
       "      <td>-2.495279</td>\n",
       "      <td>1</td>\n",
       "    </tr>\n",
       "    <tr>\n",
       "      <th>857</th>\n",
       "      <td>NLGN3</td>\n",
       "      <td>7143.0</td>\n",
       "      <td>NLGN3</td>\n",
       "      <td>NeuN vs pSyn</td>\n",
       "      <td>0.634793</td>\n",
       "      <td>0.000005</td>\n",
       "      <td>0.000251</td>\n",
       "      <td>NLGN3</td>\n",
       "      <td>Enriched in pSyn FDR &lt; 0.01</td>\n",
       "      <td>5.299170</td>\n",
       "      <td>1</td>\n",
       "    </tr>\n",
       "  </tbody>\n",
       "</table>\n",
       "<p>63 rows × 11 columns</p>\n",
       "</div>"
      ],
      "text/plain": [
       "          0  Unnamed: 0 Feature    Comparison  Estimate         P       FDR  \\\n",
       "1      NRG1      3044.0    NRG1  NeuN vs pSyn  0.536692  0.000277  0.004106   \n",
       "22    MFGE8      7621.0   MFGE8  NeuN vs pSyn  0.770833  0.006314  0.033536   \n",
       "41    FAM3C       748.0   FAM3C  NeuN vs pSyn -1.017047  0.004955  0.028737   \n",
       "46   SCARB1      3373.0  SCARB1  NeuN vs pSyn  0.745332  0.009217  0.042583   \n",
       "78    CNTN1      7852.0   CNTN1  NeuN vs pSyn -0.722287  0.000002  0.000151   \n",
       "..      ...         ...     ...           ...       ...       ...       ...   \n",
       "840   NRXN3      1056.0   NRXN3  NeuN vs pSyn  0.566038  0.000143  0.002595   \n",
       "843  SEMA3E      4080.0  SEMA3E  NeuN vs pSyn  0.838468  0.003117  0.021286   \n",
       "846   FGF12      2917.0   FGF12  NeuN vs pSyn -0.757175  0.009780  0.043949   \n",
       "852    GRM5       201.0    GRM5  NeuN vs pSyn -0.684534  0.003197  0.021599   \n",
       "857   NLGN3      7143.0   NLGN3  NeuN vs pSyn  0.634793  0.000005  0.000251   \n",
       "\n",
       "       Gene                        Color  invert_P  counts  \n",
       "1      NRG1  Enriched in pSyn FDR < 0.01  3.557714       1  \n",
       "22    MFGE8  Enriched in pSyn FDR < 0.05  2.199668       1  \n",
       "41    FAM3C  Enriched in NeuN FDR < 0.05 -2.304961       1  \n",
       "46   SCARB1  Enriched in pSyn FDR < 0.05  2.035404       1  \n",
       "78    CNTN1  Enriched in NeuN FDR < 0.01 -5.631156       1  \n",
       "..      ...                          ...       ...     ...  \n",
       "840   NRXN3  Enriched in pSyn FDR < 0.01  3.844709       1  \n",
       "843  SEMA3E  Enriched in pSyn FDR < 0.05  2.506282       1  \n",
       "846   FGF12  Enriched in NeuN FDR < 0.05 -2.009667       1  \n",
       "852    GRM5  Enriched in NeuN FDR < 0.05 -2.495279       1  \n",
       "857   NLGN3  Enriched in pSyn FDR < 0.01  5.299170       1  \n",
       "\n",
       "[63 rows x 11 columns]"
      ]
     },
     "execution_count": 162,
     "metadata": {},
     "output_type": "execute_result"
    }
   ],
   "source": [
    "net[net['Color']!='NS']"
   ]
  },
  {
   "cell_type": "code",
   "execution_count": 163,
   "metadata": {},
   "outputs": [
    {
     "data": {
      "text/plain": [
       "AD                         6.0\n",
       "ALS                        2.0\n",
       "AnorexiaNervosa            1.0\n",
       "BipolarDisorder            3.0\n",
       "BrainAneurysm              1.0\n",
       "EssentialTremor            0.0\n",
       "FrontotemporalDementia     0.0\n",
       "MajorDepressiveDisorder    2.0\n",
       "MigraineDisorder           1.0\n",
       "MS                         1.0\n",
       "NeuroticDisorder           1.0\n",
       "OCD                        0.0\n",
       "PartialEpilepsy            4.0\n",
       "PD                         5.0\n",
       "RestlessLeg                1.0\n",
       "Schizophrenia              6.0\n",
       "TouretteSyndrome           0.0\n",
       "UnipolarDepression         3.0\n",
       "dtype: float64"
      ]
     },
     "execution_count": 163,
     "metadata": {},
     "output_type": "execute_result"
    },
    {
     "data": {
      "image/png": "[encoded data removed]",
      "text/plain": [
       "<Figure size 720x720 with 4 Axes>"
      ]
     },
     "metadata": {
      "needs_background": "light"
     },
     "output_type": "display_data"
    }
   ],
   "source": [
    "dis = pd.read_csv('/Users/melis/Documents/GitHub/LR_project/processed_data/hot-encoded-diseases_0.400000.csv', index_col = 0)\n",
    "\n",
    "sns.clustermap(dis[dis.index.isin(list(net[net['Color']!='NS']['0']))])\n",
    "#plt.show()\n",
    "dis[dis.index.isin(list(net[net['Color']!='NS']['0']))].sum(axis = 0)"
   ]
  },
  {
   "cell_type": "code",
   "execution_count": 164,
   "metadata": {},
   "outputs": [
    {
     "data": {
      "text/plain": [
       "<AxesSubplot:xlabel='Color'>"
      ]
     },
     "execution_count": 164,
     "metadata": {},
     "output_type": "execute_result"
    },
    {
     "data": {
      "image/png": "[encoded data removed]",
      "text/plain": [
       "<Figure size 432x288 with 1 Axes>"
      ]
     },
     "metadata": {
      "needs_background": "light"
     },
     "output_type": "display_data"
    }
   ],
   "source": [
    "net = pd.read_csv('processed_data/03-LR_network_visualisation/louvain_largest_cluster_0.7.csv', sep = ',', index_col = 0)\n",
    "net = net.merge(df, left_on = '0', right_on = 'Feature', how = 'left')\n",
    "net['Color'] = net['Color'].replace(np.nan, 'NS')\n",
    "net['counts'] = 1\n",
    "net.groupby('Color').sum()[\"counts\"]\n",
    "counts = net.groupby('Color').sum()['counts']\n",
    "norm = (counts/counts.sum()*100)\n",
    "norm.plot.bar()"
   ]
  },
  {
   "cell_type": "code",
   "execution_count": 165,
   "metadata": {},
   "outputs": [
    {
     "data": {
      "text/plain": [
       "Color\n",
       "Enriched in NeuN FDR < 0.01     1.56250\n",
       "Enriched in NeuN FDR < 0.05     3.12500\n",
       "Enriched in pSyn FDR < 0.01     2.34375\n",
       "Enriched in pSyn FDR < 0.05     1.56250\n",
       "NS                             91.40625\n",
       "Name: counts, dtype: float64"
      ]
     },
     "execution_count": 165,
     "metadata": {},
     "output_type": "execute_result"
    }
   ],
   "source": [
    "norm"
   ]
  },
  {
   "cell_type": "code",
   "execution_count": 166,
   "metadata": {},
   "outputs": [
    {
     "data": {
      "text/plain": [
       "4      TUBA4A\n",
       "5       ITGB4\n",
       "21     SCARB1\n",
       "25      GRIA1\n",
       "50     PLA2G6\n",
       "70      HSPA4\n",
       "72      SCN2A\n",
       "97      ITGB1\n",
       "101     ITGAV\n",
       "102       APP\n",
       "110     FGF12\n",
       "Name: 0, dtype: object"
      ]
     },
     "execution_count": 166,
     "metadata": {},
     "output_type": "execute_result"
    }
   ],
   "source": [
    "net[net['Color']!='NS']['0']"
   ]
  },
  {
   "cell_type": "code",
   "execution_count": 167,
   "metadata": {},
   "outputs": [
    {
     "data": {
      "text/plain": [
       "AD                    1.0\n",
       "ALS                   1.0\n",
       "BipolarDisorder       1.0\n",
       "MigraineDisorder      0.0\n",
       "PartialEpilepsy       1.0\n",
       "PD                    1.0\n",
       "Schizophrenia         1.0\n",
       "UnipolarDepression    0.0\n",
       "dtype: float64"
      ]
     },
     "execution_count": 167,
     "metadata": {},
     "output_type": "execute_result"
    },
    {
     "data": {
      "image/png": "[encoded data removed]",
      "text/plain": [
       "<Figure size 720x720 with 4 Axes>"
      ]
     },
     "metadata": {
      "needs_background": "light"
     },
     "output_type": "display_data"
    }
   ],
   "source": [
    "dis = pd.read_csv('/Users/melis/Documents/GitHub/LR_project/processed_data/hot-encoded-diseases_0.700000.csv', index_col = 0)\n",
    "\n",
    "sns.clustermap(dis[dis.index.isin(list(net[net['Color']!='NS']['0']))])\n",
    "#plt.show()\n",
    "dis[dis.index.isin(list(net[net['Color']!='NS']['0']))].sum(axis = 0)"
   ]
  },
  {
   "cell_type": "code",
   "execution_count": 168,
   "metadata": {},
   "outputs": [
    {
     "data": {
      "text/plain": [
       "AD                    1.0\n",
       "ALS                   1.0\n",
       "BipolarDisorder       1.0\n",
       "MigraineDisorder      0.0\n",
       "PartialEpilepsy       1.0\n",
       "PD                    1.0\n",
       "Schizophrenia         1.0\n",
       "UnipolarDepression    0.0\n",
       "dtype: float64"
      ]
     },
     "execution_count": 168,
     "metadata": {},
     "output_type": "execute_result"
    }
   ],
   "source": [
    "dis[dis.index.isin(list(net[net['Color']!='NS']['0']))].sum(axis = 0)"
   ]
  },
  {
   "cell_type": "code",
   "execution_count": null,
   "metadata": {},
   "outputs": [],
   "source": []
  }
 ],
 "metadata": {
  "kernelspec": {
   "display_name": "Python 3",
   "language": "python",
   "name": "python3"
  },
  "language_info": {
   "codemirror_mode": {
    "name": "ipython",
    "version": 3
   },
   "file_extension": ".py",
   "mimetype": "text/x-python",
   "name": "python",
   "nbconvert_exporter": "python",
   "pygments_lexer": "ipython3",
   "version": "3.7.3"
  }
 },
 "nbformat": 4,
 "nbformat_minor": 2
}
