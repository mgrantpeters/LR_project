{
 "cells": [
  {
   "cell_type": "code",
   "execution_count": 1,
   "metadata": {},
   "outputs": [
    {
     "name": "stderr",
     "output_type": "stream",
     "text": [
      "c:\\Users\\melis\\AppData\\Local\\Programs\\Python\\Python37\\lib\\site-packages\\tqdm\\auto.py:22: TqdmWarning: IProgress not found. Please update jupyter and ipywidgets. See https://ipywidgets.readthedocs.io/en/stable/user_install.html\n",
      "  from .autonotebook import tqdm as notebook_tqdm\n"
     ]
    }
   ],
   "source": [
    "import numpy as np\n",
    "import pandas as pd\n",
    "import mygene\n",
    "import omnipath as op\n",
    "import matplotlib.pyplot as plt\n",
    "import seaborn as sns\n"
   ]
  },
  {
   "cell_type": "code",
   "execution_count": 2,
   "metadata": {},
   "outputs": [
    {
     "name": "stdout",
     "output_type": "stream",
     "text": [
      "Resolution 0.7\n"
     ]
    },
    {
     "data": {
      "text/plain": [
       "0.8436781609195402"
      ]
     },
     "execution_count": 2,
     "metadata": {},
     "output_type": "execute_result"
    }
   ],
   "source": [
    "drug = pd.read_csv('raw_data/disease_annotation/druggablegenome.csv')\n",
    "ntwk = pd.read_csv(\"processed_data/03-LR_network_visualisation/louvain_largest_cluster_0.7.csv\", index_col = 0)['0']\n",
    "print('Resolution 0.7')\n",
    "ntwk.isin(drug['hgnc_names']).sum()/np.shape(ntwk)[0]"
   ]
  },
  {
   "cell_type": "code",
   "execution_count": 3,
   "metadata": {},
   "outputs": [
    {
     "name": "stdout",
     "output_type": "stream",
     "text": [
      "Resolution 0.4\n"
     ]
    },
    {
     "data": {
      "text/plain": [
       "0.8383937316356513"
      ]
     },
     "execution_count": 3,
     "metadata": {},
     "output_type": "execute_result"
    }
   ],
   "source": [
    "drug = pd.read_csv('raw_data/disease_annotation/druggablegenome.csv')\n",
    "ntwk = pd.read_csv(\"processed_data/03-LR_network_visualisation/louvain_largest_cluster_0.4.csv\", index_col = 0)['0']\n",
    "print('Resolution 0.4')\n",
    "ntwk.isin(drug['hgnc_names']).sum()/np.shape(ntwk)[0]"
   ]
  },
  {
   "cell_type": "code",
   "execution_count": 4,
   "metadata": {},
   "outputs": [
    {
     "name": "stdout",
     "output_type": "stream",
     "text": [
      "Resolution 0.1\n"
     ]
    },
    {
     "data": {
      "text/plain": [
       "0.83446519524618"
      ]
     },
     "execution_count": 4,
     "metadata": {},
     "output_type": "execute_result"
    }
   ],
   "source": [
    "drug = pd.read_csv('raw_data/disease_annotation/druggablegenome.csv')\n",
    "ntwk = pd.read_csv(\"processed_data/03-LR_network_visualisation/louvain_largest_cluster_0.1.csv\", index_col = 0)['0']\n",
    "print('Resolution 0.1')\n",
    "ntwk.isin(drug['hgnc_names']).sum()/np.shape(ntwk)[0]"
   ]
  },
  {
   "cell_type": "code",
   "execution_count": 5,
   "metadata": {},
   "outputs": [
    {
     "data": {
      "text/html": [
       "<div>\n",
       "<style scoped>\n",
       "    .dataframe tbody tr th:only-of-type {\n",
       "        vertical-align: middle;\n",
       "    }\n",
       "\n",
       "    .dataframe tbody tr th {\n",
       "        vertical-align: top;\n",
       "    }\n",
       "\n",
       "    .dataframe thead th {\n",
       "        text-align: right;\n",
       "    }\n",
       "</style>\n",
       "<table border=\"1\" class=\"dataframe\">\n",
       "  <thead>\n",
       "    <tr style=\"text-align: right;\">\n",
       "      <th></th>\n",
       "      <th>ensembl_gene_id</th>\n",
       "      <th>druggability_tier</th>\n",
       "      <th>hgnc_names</th>\n",
       "      <th>chr_b37</th>\n",
       "      <th>start_b37</th>\n",
       "      <th>end_b37</th>\n",
       "      <th>strand</th>\n",
       "      <th>description</th>\n",
       "      <th>no_of_gwas_regions</th>\n",
       "      <th>small_mol_druggable</th>\n",
       "      <th>bio_druggable</th>\n",
       "      <th>adme_gene</th>\n",
       "    </tr>\n",
       "  </thead>\n",
       "  <tbody>\n",
       "    <tr>\n",
       "      <th>1246</th>\n",
       "      <td>ENSG00000186868</td>\n",
       "      <td>Tier 1</td>\n",
       "      <td>MAPT</td>\n",
       "      <td>17</td>\n",
       "      <td>43971748</td>\n",
       "      <td>44105700</td>\n",
       "      <td>1</td>\n",
       "      <td>microtubule-associated protein tau [Source:HGN...</td>\n",
       "      <td>19</td>\n",
       "      <td>Y</td>\n",
       "      <td>N</td>\n",
       "      <td>N</td>\n",
       "    </tr>\n",
       "  </tbody>\n",
       "</table>\n",
       "</div>"
      ],
      "text/plain": [
       "      ensembl_gene_id druggability_tier hgnc_names chr_b37  start_b37  \\\n",
       "1246  ENSG00000186868            Tier 1       MAPT      17   43971748   \n",
       "\n",
       "       end_b37  strand                                        description  \\\n",
       "1246  44105700       1  microtubule-associated protein tau [Source:HGN...   \n",
       "\n",
       "      no_of_gwas_regions small_mol_druggable bio_druggable adme_gene  \n",
       "1246                  19                   Y             N         N  "
      ]
     },
     "execution_count": 5,
     "metadata": {},
     "output_type": "execute_result"
    }
   ],
   "source": [
    "drug[drug['hgnc_names']=='MAPT']"
   ]
  },
  {
   "cell_type": "code",
   "execution_count": 6,
   "metadata": {},
   "outputs": [
    {
     "data": {
      "text/html": [
       "<div>\n",
       "<style scoped>\n",
       "    .dataframe tbody tr th:only-of-type {\n",
       "        vertical-align: middle;\n",
       "    }\n",
       "\n",
       "    .dataframe tbody tr th {\n",
       "        vertical-align: top;\n",
       "    }\n",
       "\n",
       "    .dataframe thead th {\n",
       "        text-align: right;\n",
       "    }\n",
       "</style>\n",
       "<table border=\"1\" class=\"dataframe\">\n",
       "  <thead>\n",
       "    <tr style=\"text-align: right;\">\n",
       "      <th></th>\n",
       "      <th>ensembl_gene_id</th>\n",
       "      <th>druggability_tier</th>\n",
       "      <th>hgnc_names</th>\n",
       "      <th>chr_b37</th>\n",
       "      <th>start_b37</th>\n",
       "      <th>end_b37</th>\n",
       "      <th>strand</th>\n",
       "      <th>description</th>\n",
       "      <th>no_of_gwas_regions</th>\n",
       "      <th>small_mol_druggable</th>\n",
       "      <th>bio_druggable</th>\n",
       "      <th>adme_gene</th>\n",
       "    </tr>\n",
       "  </thead>\n",
       "  <tbody>\n",
       "    <tr>\n",
       "      <th>1246</th>\n",
       "      <td>ENSG00000186868</td>\n",
       "      <td>Tier 1</td>\n",
       "      <td>MAPT</td>\n",
       "      <td>17</td>\n",
       "      <td>43971748</td>\n",
       "      <td>44105700</td>\n",
       "      <td>1</td>\n",
       "      <td>microtubule-associated protein tau [Source:HGN...</td>\n",
       "      <td>19</td>\n",
       "      <td>Y</td>\n",
       "      <td>N</td>\n",
       "      <td>N</td>\n",
       "    </tr>\n",
       "  </tbody>\n",
       "</table>\n",
       "</div>"
      ],
      "text/plain": [
       "      ensembl_gene_id druggability_tier hgnc_names chr_b37  start_b37  \\\n",
       "1246  ENSG00000186868            Tier 1       MAPT      17   43971748   \n",
       "\n",
       "       end_b37  strand                                        description  \\\n",
       "1246  44105700       1  microtubule-associated protein tau [Source:HGN...   \n",
       "\n",
       "      no_of_gwas_regions small_mol_druggable bio_druggable adme_gene  \n",
       "1246                  19                   Y             N         N  "
      ]
     },
     "execution_count": 6,
     "metadata": {},
     "output_type": "execute_result"
    }
   ],
   "source": [
    "drug[drug['hgnc_names']=='MAPT']"
   ]
  }
 ],
 "metadata": {
  "kernelspec": {
   "display_name": "Python 3",
   "language": "python",
   "name": "python3"
  },
  "language_info": {
   "codemirror_mode": {
    "name": "ipython",
    "version": 3
   },
   "file_extension": ".py",
   "mimetype": "text/x-python",
   "name": "python",
   "nbconvert_exporter": "python",
   "pygments_lexer": "ipython3",
   "version": "3.7.3"
  },
  "orig_nbformat": 4
 },
 "nbformat": 4,
 "nbformat_minor": 2
}
